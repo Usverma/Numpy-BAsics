{
 "cells": [
  {
   "cell_type": "markdown",
   "metadata": {},
   "source": [
    "## Import numpy array"
   ]
  },
  {
   "cell_type": "code",
   "execution_count": 1,
   "metadata": {},
   "outputs": [],
   "source": [
    "import numpy as np"
   ]
  },
  {
   "cell_type": "markdown",
   "metadata": {},
   "source": [
    "## Create NumPy Array"
   ]
  },
  {
   "cell_type": "raw",
   "metadata": {},
   "source": [
    "To create a NumPy array we need to pass list of element values inside a square bracket as an argument to the np.array() function.\n",
    "\n",
    "A 3d array is a matrix of 2d array. A 3d array can also be called as a list of lists where every element is again a list of elements.\n",
    "\n",
    "The main data structure for multidimensional arrays in NumPy is the ndarray class. Basic Attributes of the ndarray Class as follow:\n",
    "\n",
    "Attribute\tDescription\n",
    "Shape\t    A tuple that specifies the number of elements for each dimension of the array.\n",
    "Size\t    The total number elements in the array.\n",
    "ndim\t    Determines the dimension an array.\n",
    "nbytes\t    Number of bytes used to store the data.\n",
    "dtype\t    Determines the datatype of elements stored in array.\n"
   ]
  },
  {
   "cell_type": "code",
   "execution_count": 2,
   "metadata": {},
   "outputs": [
    {
     "name": "stdout",
     "output_type": "stream",
     "text": [
      "[1, 2, 3, 4, 5, 6]\n",
      "          \n",
      "[[1, 2, 3], [4, 5, 6]]\n",
      "          \n",
      "[[[1, 2, 3], [4, 5, 6], [7, 8, 9], [10, 11, 12]]]\n"
     ]
    }
   ],
   "source": [
    "array1d = ([1,2,3,4,5,6])\n",
    "array2d = ([[1,2,3],[4,5,6]])\n",
    "array3d = ([[[1,2,3],[4,5,6],[7,8,9],[10,11,12]]])\n",
    "\n",
    "print(array1d)\n",
    "\n",
    "print(\" \" * 10)\n",
    "print(array2d)\n",
    "\n",
    "print(\" \" * 10)\n",
    "print(array3d)\n",
    "\n"
   ]
  },
  {
   "cell_type": "markdown",
   "metadata": {},
   "source": [
    "## Data Types Supported by NumPy"
   ]
  },
  {
   "cell_type": "raw",
   "metadata": {},
   "source": [
    "The dtype method determines the datatype of elements stored in NumPy array. You can also explicitly define the data type using the dtype option as an argument of array function.\n",
    "\n",
    "dtype\t        Variants\t                              Description\n",
    "int\t         int8, int16, int32, int64\t                  Integers\n",
    "uint\t     uint8, uint16, uint32, uint64\t              Unsigned (nonnegative) integers\n",
    "bool\t     Bool\t                                      Boolean (True or False)\n",
    "code>float\t float16, float32, float64, float128\t      Floating-point numbers\n",
    "complex\t     complex64, complex128, complex256\t          Complex-valued floating-point numbers"
   ]
  },
  {
   "cell_type": "code",
   "execution_count": 3,
   "metadata": {},
   "outputs": [
    {
     "name": "stdout",
     "output_type": "stream",
     "text": [
      "int32\n",
      "float64\n",
      "<U1\n",
      "<U5\n",
      "float64\n",
      "['Canad' 'Austr']\n"
     ]
    }
   ],
   "source": [
    "import numpy as np\n",
    " \n",
    "type1 = np.array([1, 2, 3, 4, 5, 6])\n",
    "type2 = np.array([1.5, 2.5, 0.5, 6])\n",
    "type3 = np.array(['a', 'b', 'c'])\n",
    "type4 = np.array([\"Canada\", \"Australia\"], dtype='U5')\n",
    "type5 = np.array([555, 666], dtype=float)\n",
    " \n",
    " \n",
    "print(type1.dtype)\n",
    "print(type2.dtype)\n",
    "print(type3.dtype)\n",
    "print(type4.dtype)\n",
    "print(type5.dtype)\n",
    " \n",
    "print(type4)"
   ]
  },
  {
   "cell_type": "markdown",
   "metadata": {},
   "source": [
    "## Shape of an array"
   ]
  },
  {
   "cell_type": "markdown",
   "metadata": {},
   "source": [
    "The shape method determines the shape of NumPy array in form of (m, n) i.e (no. of rows) x (no. of columns)."
   ]
  },
  {
   "cell_type": "code",
   "execution_count": 4,
   "metadata": {},
   "outputs": [
    {
     "name": "stdout",
     "output_type": "stream",
     "text": [
      "(6,)\n",
      "(2, 3)\n",
      "(2, 2, 3)\n"
     ]
    }
   ],
   "source": [
    "import numpy as np\n",
    " \n",
    "array1d = np.array([1, 2, 3, 4, 5, 6])\n",
    "array2d = np.array([[1, 2, 3], [4, 5, 6]])\n",
    "array3d = np.array([[[1, 2, 3], [4, 5, 6]], [[7, 8, 9], [10, 11, 12]]])\n",
    " \n",
    "print(array1d.shape)\n",
    "print(array2d.shape)\n",
    "print(array3d.shape)"
   ]
  },
  {
   "cell_type": "markdown",
   "metadata": {},
   "source": [
    "## Dimension of an array"
   ]
  },
  {
   "cell_type": "markdown",
   "metadata": {},
   "source": [
    "The ndim method determines the dimension of NumPy array."
   ]
  },
  {
   "cell_type": "code",
   "execution_count": 5,
   "metadata": {},
   "outputs": [
    {
     "name": "stdout",
     "output_type": "stream",
     "text": [
      "1\n",
      "2\n",
      "3\n"
     ]
    }
   ],
   "source": [
    "import numpy as np\n",
    " \n",
    "array1d = np.array([1, 2, 3, 4, 5, 6])\n",
    "print(array1d.ndim)  # 1\n",
    " \n",
    "array2d = np.array([[1, 2, 3], [4, 5, 6]])\n",
    "print(array2d.ndim)  # 2\n",
    " \n",
    "array3d = np.array([1, 2, 3, 4, 5, 6, 7, 8, 9, 10, 11, 12])\n",
    "array3d = array3d.reshape(2, 3, 2)\n",
    "print(array3d.ndim)  # 3"
   ]
  },
  {
   "cell_type": "markdown",
   "metadata": {},
   "source": [
    "## Reshape an array"
   ]
  },
  {
   "cell_type": "markdown",
   "metadata": {},
   "source": [
    "The reshape () method modifies existing shape but original array remains unchanged."
   ]
  },
  {
   "cell_type": "code",
   "execution_count": 6,
   "metadata": {},
   "outputs": [
    {
     "name": "stdout",
     "output_type": "stream",
     "text": [
      "[[1 2 3 4]\n",
      " [5 6 7 8]]\n",
      "----------\n",
      "[[1 2]\n",
      " [3 4]\n",
      " [5 6]\n",
      " [7 8]]\n",
      "----------\n",
      "[[1]\n",
      " [2]\n",
      " [3]\n",
      " [4]\n",
      " [5]\n",
      " [6]\n",
      " [7]\n",
      " [8]]\n"
     ]
    }
   ],
   "source": [
    "import numpy as np\n",
    " \n",
    "thearray = np.array([1, 2, 3, 4, 5, 6, 7, 8])\n",
    "thearray = thearray.reshape(2, 4)\n",
    "print(thearray)\n",
    " \n",
    "print(\"-\" * 10)\n",
    "thearray = thearray.reshape(4, 2)\n",
    "print(thearray)\n",
    " \n",
    "print(\"-\" * 10)\n",
    "thearray = thearray.reshape(8, 1)\n",
    "print(thearray)"
   ]
  },
  {
   "cell_type": "markdown",
   "metadata": {},
   "source": [
    "## Resize an array"
   ]
  },
  {
   "cell_type": "markdown",
   "metadata": {},
   "source": [
    "The resize() method modifies existing shape and array itself."
   ]
  },
  {
   "cell_type": "code",
   "execution_count": 7,
   "metadata": {},
   "outputs": [
    {
     "name": "stdout",
     "output_type": "stream",
     "text": [
      "[1 2 3 4]\n",
      "----------\n",
      "[[1 2 3 4]\n",
      " [5 6 7 8]]\n",
      "----------\n",
      "[[1 2 3]\n",
      " [4 5 6]\n",
      " [7 8 0]]\n"
     ]
    }
   ],
   "source": [
    "import numpy as np\n",
    " \n",
    "thearray = np.array([1, 2, 3, 4, 5, 6, 7, 8])\n",
    "thearray.resize(4)\n",
    "print(thearray)\n",
    " \n",
    "print(\"-\" * 10)\n",
    "thearray = np.array([1, 2, 3, 4, 5, 6, 7, 8])\n",
    "thearray.resize(2, 4)\n",
    "print(thearray)\n",
    " \n",
    "print(\"-\" * 10)\n",
    "thearray = np.array([1, 2, 3, 4, 5, 6, 7, 8])\n",
    "thearray.resize(3, 3)\n",
    "print(thearray)"
   ]
  },
  {
   "cell_type": "markdown",
   "metadata": {},
   "source": [
    "## Transform List or Tuple into NumPy array"
   ]
  },
  {
   "cell_type": "markdown",
   "metadata": {},
   "source": [
    "The array() function can accept lists, tuples and other numpy.ndarray objects also to create new array object."
   ]
  },
  {
   "cell_type": "code",
   "execution_count": 8,
   "metadata": {},
   "outputs": [
    {
     "name": "stdout",
     "output_type": "stream",
     "text": [
      "<class 'list'>\n",
      "<class 'numpy.ndarray'>\n",
      "<class 'tuple'>\n",
      "<class 'numpy.ndarray'>\n",
      "[[1 2 3]\n",
      " [1 2 3]\n",
      " [1 2 3]]\n"
     ]
    }
   ],
   "source": [
    "import numpy as np\n",
    " \n",
    "thelist = [1, 2, 3]\n",
    "print(type(thelist))  # <class 'list'>\n",
    " \n",
    "array1 = np.array(thelist)\n",
    "print(type(array1))  # <class 'numpy.ndarray'>\n",
    " \n",
    " \n",
    "thetuple = ((1, 2, 3))\n",
    "print(type(thetuple))  # <class 'tuple'>\n",
    " \n",
    "array2 = np.array(thetuple)\n",
    "print(type(array2))  # <class 'numpy.ndarray'>\n",
    " \n",
    "array3 = np.array([thetuple, thelist, array1])\n",
    "print(array3)"
   ]
  },
  {
   "cell_type": "markdown",
   "metadata": {},
   "source": [
    "## Special NumPy functions for generating arrays"
   ]
  },
  {
   "cell_type": "markdown",
   "metadata": {},
   "source": [
    "#### Arrays with arange()\n",
    "The arange() function creates an array with evenly spaced values between the specified start, end, and increment values."
   ]
  },
  {
   "cell_type": "markdown",
   "metadata": {},
   "source": [
    "General form: np.arange(Start, End, Increment)"
   ]
  },
  {
   "cell_type": "markdown",
   "metadata": {},
   "source": [
    "The reshape function is used to change its dimension:"
   ]
  },
  {
   "cell_type": "code",
   "execution_count": 9,
   "metadata": {},
   "outputs": [
    {
     "name": "stdout",
     "output_type": "stream",
     "text": [
      "[0 1 2 3 4]\n",
      "[ 0  2  4  6  8 10]\n",
      "[[ 0  2  4]\n",
      " [ 6  8 10]]\n",
      "[[0 1 2]\n",
      " [3 4 5]\n",
      " [6 7 8]]\n"
     ]
    }
   ],
   "source": [
    "import numpy as np\n",
    " \n",
    "array1d = np.arange(5)  # 1 row and 5 columns\n",
    "print(array1d)\n",
    " \n",
    "array1d = np.arange(0, 12, 2)  # 1 row and 6 columns\n",
    "print(array1d)\n",
    " \n",
    "array2d = np.arange(0, 12, 2).reshape(2, 3)  # 2 rows 3 columns\n",
    "print(array2d)\n",
    " \n",
    "array3d = np.arange(9).reshape(3, 3)  # 3 rows and columns\n",
    "print(array3d)"
   ]
  },
  {
   "cell_type": "markdown",
   "metadata": {},
   "source": [
    "## Arrays with linspace()"
   ]
  },
  {
   "cell_type": "markdown",
   "metadata": {},
   "source": [
    "The linspace() function generates an array with evenly spaced values between specified start and end values, using a specified number of elements."
   ]
  },
  {
   "cell_type": "markdown",
   "metadata": {},
   "source": [
    "General form: np.linspace(Start, End, Number of elements)"
   ]
  },
  {
   "cell_type": "code",
   "execution_count": 10,
   "metadata": {},
   "outputs": [
    {
     "name": "stdout",
     "output_type": "stream",
     "text": [
      "[ 1. 12.]\n",
      "[ 1.          4.66666667  8.33333333 12.        ]\n",
      "[[ 1.  2.  3.]\n",
      " [ 4.  5.  6.]\n",
      " [ 7.  8.  9.]\n",
      " [10. 11. 12.]]\n"
     ]
    }
   ],
   "source": [
    "import numpy as np\n",
    " \n",
    "array1d = np.linspace(1, 12, 2)\n",
    "print(array1d)\n",
    " \n",
    "array1d = np.linspace(1, 12, 4)\n",
    "print(array1d)\n",
    " \n",
    "array2d = np.linspace(1, 12, 12).reshape(4, 3)\n",
    "print(array2d)"
   ]
  },
  {
   "cell_type": "markdown",
   "metadata": {},
   "source": [
    "## Arrays with logspace()"
   ]
  },
  {
   "cell_type": "markdown",
   "metadata": {},
   "source": [
    "The logspace() function, generates an array with values that are logarithmically spaced between the given start and end values."
   ]
  },
  {
   "cell_type": "code",
   "execution_count": 11,
   "metadata": {},
   "outputs": [
    {
     "name": "stdout",
     "output_type": "stream",
     "text": [
      "[1.00000000e+35 7.74263683e+38 5.99484250e+42 4.64158883e+46\n",
      " 3.59381366e+50 2.78255940e+54 2.15443469e+58 1.66810054e+62\n",
      " 1.29154967e+66 1.00000000e+70]\n"
     ]
    }
   ],
   "source": [
    "import numpy as np\n",
    " \n",
    "thearray = np.logspace(5, 10, num=10, base=10000000.0, dtype=float)\n",
    "print(thearray)"
   ]
  },
  {
   "cell_type": "markdown",
   "metadata": {},
   "source": [
    "## Zero Array"
   ]
  },
  {
   "cell_type": "markdown",
   "metadata": {},
   "source": [
    "The zeros() function, generates an array with the specified dimensions and data type that is filled with zeros"
   ]
  },
  {
   "cell_type": "code",
   "execution_count": 12,
   "metadata": {},
   "outputs": [
    {
     "name": "stdout",
     "output_type": "stream",
     "text": [
      "[0. 0. 0.]\n",
      "[[0. 0. 0. 0.]\n",
      " [0. 0. 0. 0.]]\n"
     ]
    }
   ],
   "source": [
    "import numpy as np\n",
    " \n",
    "array1d = np.zeros(3)\n",
    "print(array1d)\n",
    " \n",
    "array2d = np.zeros((2, 4))\n",
    "print(array2d)"
   ]
  },
  {
   "cell_type": "markdown",
   "metadata": {},
   "source": [
    "## One Array"
   ]
  },
  {
   "cell_type": "markdown",
   "metadata": {},
   "source": [
    "The ones() function, generates an array with the specified dimensions and data type that is filled with ones."
   ]
  },
  {
   "cell_type": "code",
   "execution_count": 13,
   "metadata": {},
   "outputs": [
    {
     "name": "stdout",
     "output_type": "stream",
     "text": [
      "[1. 1. 1.]\n",
      "[[1. 1. 1. 1.]\n",
      " [1. 1. 1. 1.]]\n"
     ]
    }
   ],
   "source": [
    "import numpy as np\n",
    " \n",
    "array1d = np.ones(3)\n",
    "print(array1d)\n",
    " \n",
    "array2d = np.ones((2, 4))\n",
    "print(array2d)"
   ]
  },
  {
   "cell_type": "markdown",
   "metadata": {},
   "source": [
    "## Full Array"
   ]
  },
  {
   "cell_type": "markdown",
   "metadata": {},
   "source": [
    "The full() function, generates an array with the specified dimensions and data type that is filled with specified number."
   ]
  },
  {
   "cell_type": "code",
   "execution_count": 14,
   "metadata": {},
   "outputs": [
    {
     "name": "stdout",
     "output_type": "stream",
     "text": [
      "[2 2 2]\n",
      "[[3 3 3 3]\n",
      " [3 3 3 3]]\n"
     ]
    }
   ],
   "source": [
    "import numpy as np\n",
    " \n",
    "array1d = np.full((3), 2)\n",
    "print(array1d)\n",
    " \n",
    "array2d = np.full((2, 4), 3)\n",
    "print(array2d)"
   ]
  },
  {
   "cell_type": "markdown",
   "metadata": {},
   "source": [
    "## Eye Array"
   ]
  },
  {
   "cell_type": "markdown",
   "metadata": {},
   "source": [
    "The eye() function, returns an array where all elements are equal to zero, except for the k-th diagonal, whose values are equal to one."
   ]
  },
  {
   "cell_type": "code",
   "execution_count": 15,
   "metadata": {},
   "outputs": [
    {
     "name": "stdout",
     "output_type": "stream",
     "text": [
      "[[1 0 0]\n",
      " [0 1 0]\n",
      " [0 0 1]]\n",
      "[[0. 0. 1. 0. 0.]\n",
      " [0. 0. 0. 1. 0.]\n",
      " [0. 0. 0. 0. 1.]\n",
      " [0. 0. 0. 0. 0.]\n",
      " [0. 0. 0. 0. 0.]]\n"
     ]
    }
   ],
   "source": [
    "import numpy as np\n",
    " \n",
    "array1 = np.eye(3, dtype=int)\n",
    "print(array1)\n",
    " \n",
    "array2 = np.eye(5, k=2)\n",
    "print(array2)"
   ]
  },
  {
   "cell_type": "markdown",
   "metadata": {},
   "source": [
    "## Random Number Array"
   ]
  },
  {
   "cell_type": "markdown",
   "metadata": {},
   "source": [
    "The np.random.rand method, generates an array with random numbers that are uniformly distributed between 0 and 1."
   ]
  },
  {
   "cell_type": "markdown",
   "metadata": {},
   "source": [
    "The np.random.randn method, generates an array with random numbers that are normally distributed between 0 and 1."
   ]
  },
  {
   "cell_type": "markdown",
   "metadata": {},
   "source": [
    "The np.random.randint method, generates an array with random numbers that are uniformly distributed between 0 and given integer."
   ]
  },
  {
   "cell_type": "code",
   "execution_count": 16,
   "metadata": {},
   "outputs": [
    {
     "name": "stdout",
     "output_type": "stream",
     "text": [
      "[[0.43371752 0.67419002]\n",
      " [0.70970106 0.36674367]\n",
      " [0.64266205 0.78230417]]\n",
      "[[-1.1788014   1.43778162]\n",
      " [-0.10376346 -0.59448762]\n",
      " [-0.50925438  0.0310431 ]]\n",
      "[0 1 1 0 0 0 1 1 0 0]\n",
      "[[4 0 1 4]\n",
      " [2 4 2 0]]\n"
     ]
    }
   ],
   "source": [
    "import numpy as np\n",
    " \n",
    "print(np.random.rand(3, 2))  # Uniformly distributed values.\n",
    "print(np.random.randn(3, 2))  # Normally distributed values.\n",
    " \n",
    "# Uniformly distributed integers in a given range.\n",
    "print(np.random.randint(2, size=10))\n",
    "print(np.random.randint(5, size=(2, 4)))"
   ]
  },
  {
   "cell_type": "markdown",
   "metadata": {},
   "source": [
    "## Identity and Diagonal Array"
   ]
  },
  {
   "cell_type": "markdown",
   "metadata": {},
   "source": [
    "The identity() function, generates square array with ones on the main diagonal whereas diag() function extract or construct diagonal array."
   ]
  },
  {
   "cell_type": "code",
   "execution_count": 17,
   "metadata": {},
   "outputs": [
    {
     "name": "stdout",
     "output_type": "stream",
     "text": [
      "[[1. 0. 0.]\n",
      " [0. 1. 0.]\n",
      " [0. 0. 1.]]\n",
      "[[0 0 0 0]\n",
      " [0 2 0 0]\n",
      " [0 0 4 0]\n",
      " [0 0 0 6]]\n",
      "[[0 0 0]\n",
      " [0 4 0]\n",
      " [0 0 8]]\n"
     ]
    }
   ],
   "source": [
    "import numpy as np\n",
    " \n",
    "print(np.identity(3))\n",
    " \n",
    "print(np.diag(np.arange(0, 8, 2)))\n",
    " \n",
    "print(np.diag(np.diag(np.arange(9).reshape((3,3)))))"
   ]
  },
  {
   "cell_type": "markdown",
   "metadata": {},
   "source": [
    "## Operations on NumPy Arrays"
   ]
  },
  {
   "cell_type": "markdown",
   "metadata": {},
   "source": [
    "### Indexing"
   ]
  },
  {
   "cell_type": "markdown",
   "metadata": {},
   "source": [
    "NumPy creates an appropriate scale index at the time of array creation. In order to access a single or multiple items of an array, we need to pass array of indexes in square brackets."
   ]
  },
  {
   "cell_type": "markdown",
   "metadata": {},
   "source": [
    "Indexing in two-dimensional array is represented by a pair of values, where the first value is the index of the row and the second is the index of the column."
   ]
  },
  {
   "cell_type": "code",
   "execution_count": 18,
   "metadata": {},
   "outputs": [
    {
     "name": "stdout",
     "output_type": "stream",
     "text": [
      "1\n",
      "6\n",
      "4\n",
      "2\n",
      "[1 6]\n",
      "----------\n",
      "[[1 2 3]\n",
      " [4 5 6]\n",
      " [7 8 9]]\n",
      "----------\n",
      "1\n",
      "2\n",
      "3\n",
      "2\n",
      "5\n",
      "8\n"
     ]
    }
   ],
   "source": [
    "import numpy as np\n",
    " \n",
    "array1d = np.array([1, 2, 3, 4, 5, 6])\n",
    "print(array1d[0])   # Get first value\n",
    "print(array1d[-1])  # Get last value\n",
    "print(array1d[3])   # Get 4th value from first\n",
    "print(array1d[-5])  # Get 5th value from last\n",
    " \n",
    "# Get multiple values\n",
    "print(array1d[[0, -1]])\n",
    " \n",
    "print(\"-\" * 10)\n",
    " \n",
    "array2d = np.array([[1, 2, 3], [4, 5, 6], [7, 8, 9]])\n",
    "print(array2d)\n",
    "print(\"-\" * 10)\n",
    " \n",
    "print(array2d[0, 0])   # Get first row first col\n",
    "print(array2d[0, 1])   # Get first row second col\n",
    "print(array2d[0, 2])   # Get first row third col\n",
    " \n",
    "print(array2d[0, 1])   # Get first row second col \n",
    "print(array2d[1, 1])   # Get second row second col\n",
    "print(array2d[2, 1])   # Get third row second col"
   ]
  },
  {
   "cell_type": "markdown",
   "metadata": {},
   "source": [
    "## Multidimensional Indexing"
   ]
  },
  {
   "cell_type": "markdown",
   "metadata": {},
   "source": [
    "Indexing in a 3-Dimensional Array is based on syntax: array3d[L,M,N] where L is the first index, M is the row no. and N is the column no."
   ]
  },
  {
   "cell_type": "code",
   "execution_count": 19,
   "metadata": {},
   "outputs": [
    {
     "name": "stdout",
     "output_type": "stream",
     "text": [
      "[[[ 1  2  3]\n",
      "  [ 4  5  6]]\n",
      "\n",
      " [[ 7  8  9]\n",
      "  [10 11 12]]]\n",
      "1\n",
      "2\n",
      "3\n",
      "4\n",
      "5\n",
      "6\n",
      "7\n",
      "8\n",
      "9\n",
      "10\n",
      "11\n",
      "12\n"
     ]
    }
   ],
   "source": [
    "import numpy as np\n",
    " \n",
    "array3d = np.array([[[1, 2, 3], [4, 5, 6]], [[7, 8, 9], [10, 11, 12]]])\n",
    "print(array3d)\n",
    " \n",
    "print(array3d[0, 0, 0])\n",
    "print(array3d[0, 0, 1])\n",
    "print(array3d[0, 0, 2])\n",
    " \n",
    "print(array3d[0, 1, 0])\n",
    "print(array3d[0, 1, 1])\n",
    "print(array3d[0, 1, 2])\n",
    " \n",
    "print(array3d[1, 0, 0])\n",
    "print(array3d[1, 0, 1])\n",
    "print(array3d[1, 0, 2])\n",
    " \n",
    "print(array3d[1, 1, 0])\n",
    "print(array3d[1, 1, 1])\n",
    "print(array3d[1, 1, 2])"
   ]
  },
  {
   "cell_type": "markdown",
   "metadata": {},
   "source": [
    "## Single Dimensional Slicing"
   ]
  },
  {
   "cell_type": "markdown",
   "metadata": {},
   "source": [
    "Slicing allows to extract portions of an array or select a subset of an existing array to generate new arrays. For slicing a sequence of numbers separated by colons (:) within square brackets."
   ]
  },
  {
   "cell_type": "code",
   "execution_count": 20,
   "metadata": {},
   "outputs": [
    {
     "name": "stdout",
     "output_type": "stream",
     "text": [
      "[4 5 6 7 8 9]\n",
      "[0 1 2 3]\n",
      "[4 5 6]\n",
      "[0 1 2 3 4 5 6 7 8]\n",
      "[0 1 2 3 4 5 6 7]\n",
      "[9 8 7 6 5 4 3 2 1 0]\n",
      "[9 7 5 3 1]\n",
      "[8 6 4 2 0]\n",
      "[0 1 2 3 4 5 6 7 8 9]\n"
     ]
    }
   ],
   "source": [
    "import numpy as np\n",
    " \n",
    "array1d = np.array([0, 1, 2, 3, 4, 5, 6, 7, 8, 9])\n",
    " \n",
    "print(array1d[4:])  # From index 4 to last index\n",
    " \n",
    "print(array1d[:4])  # From index 0 to 4 index\n",
    " \n",
    "print(array1d[4:7])  # From index 4(included) up to index 7(excluded)\n",
    " \n",
    "print(array1d[:-1])  # Excluded last element\n",
    " \n",
    "print(array1d[:-2])  # Up to second last index(negative index)\n",
    " \n",
    "print(array1d[::-1])  # From last to first in reverse order(negative step)\n",
    " \n",
    "print(array1d[::-2])  # All odd numbers in reversed order\n",
    " \n",
    "print(array1d[-2::-2])  # All even numbers in reversed order\n",
    " \n",
    "print(array1d[::])  # All elements"
   ]
  },
  {
   "cell_type": "markdown",
   "metadata": {},
   "source": [
    "## Multidimensional Slicing"
   ]
  },
  {
   "cell_type": "markdown",
   "metadata": {},
   "source": [
    "For a two-dimensional array, the same slicing syntax applies, but it is separately defined for the rows and columns."
   ]
  },
  {
   "cell_type": "code",
   "execution_count": 21,
   "metadata": {},
   "outputs": [
    {
     "name": "stdout",
     "output_type": "stream",
     "text": [
      "----------\n",
      "[[1 2]\n",
      " [4 5]\n",
      " [7 8]]\n",
      "----------\n",
      "[[4 5 6]\n",
      " [7 8 9]]\n",
      "----------\n",
      "[[9 8 7]\n",
      " [6 5 4]\n",
      " [3 2 1]]\n"
     ]
    }
   ],
   "source": [
    "import numpy as np\n",
    " \n",
    "array2d = np.array([[1, 2, 3], [4, 5, 6], [7, 8, 9]])\n",
    " \n",
    "print(\"-\" * 10)\n",
    "print(array2d[:, 0:2])  # 2nd and 3rd col\n",
    " \n",
    "print(\"-\" * 10)\n",
    "print(array2d[1:3, 0:3])  # 2nd and 3rd row\n",
    " \n",
    "print(\"-\" * 10)\n",
    "print(array2d[-1::-1, -1::-1])  # Reverse an array"
   ]
  },
  {
   "cell_type": "markdown",
   "metadata": {},
   "source": [
    "## Manipulating the Dimensions and the Shape of Arrays"
   ]
  },
  {
   "cell_type": "markdown",
   "metadata": {},
   "source": [
    "## Flips the order of the Axes"
   ]
  },
  {
   "cell_type": "markdown",
   "metadata": {},
   "source": [
    "The transpose function transpose also exists as a method in ndarray and it permute the dimensions of an array. The fliplr (flip left-right) and flipud (flip up-down) functions perform operations that are similar to the transpose and the shape of the output array is the same as the input. The fliplr flip an array in the left/right direction. The flipud flip an array in the up/down direction. The rot90 Rotate an array by 90 degrees in the plane specified by axes and the rotation direction is from the first towards the second axis."
   ]
  },
  {
   "cell_type": "code",
   "execution_count": 22,
   "metadata": {},
   "outputs": [
    {
     "name": "stdout",
     "output_type": "stream",
     "text": [
      "[[1 2 3]\n",
      " [4 5 6]\n",
      " [7 8 9]]\n",
      "----------\n",
      "[[1 4 7]\n",
      " [2 5 8]\n",
      " [3 6 9]]\n",
      "----------\n",
      "[[3 2 1]\n",
      " [6 5 4]\n",
      " [9 8 7]]\n",
      "----------\n",
      "[[7 8 9]\n",
      " [4 5 6]\n",
      " [1 2 3]]\n",
      "----------\n",
      "[[3 6 9]\n",
      " [2 5 8]\n",
      " [1 4 7]]\n"
     ]
    }
   ],
   "source": [
    "import numpy as np\n",
    " \n",
    "array2d = np.array([[1, 2, 3], [4, 5, 6], [7, 8, 9]])\n",
    "print(array2d)\n",
    " \n",
    "print(\"-\" * 10)\n",
    " \n",
    "# Permute the dimensions of an array.\n",
    "arrayT = np.transpose(array2d)\n",
    "print(arrayT)\n",
    " \n",
    "print(\"-\" * 10)\n",
    " \n",
    "# Flip array in the left/right direction.\n",
    "arrayFlr = np.fliplr(array2d)\n",
    "print(arrayFlr)\n",
    " \n",
    "print(\"-\" * 10)\n",
    " \n",
    "# Flip array in the up/down direction.\n",
    "arrayFud = np.flipud(array2d)\n",
    "print(arrayFud)\n",
    " \n",
    "print(\"-\" * 10)\n",
    " \n",
    "# Rotate an array by 90 degrees in the plane specified by axes.\n",
    "arrayRot90 = np.rot90(array2d)\n",
    "print(arrayRot90)"
   ]
  },
  {
   "cell_type": "markdown",
   "metadata": {},
   "source": [
    "## Joining and Stacking"
   ]
  },
  {
   "cell_type": "markdown",
   "metadata": {},
   "source": [
    "NumPy uses the concept of stacking and provide a number of functions to perform: vertical stacking(row wise) using vstack(), horizontal stacking(column wise) using hstack() and depth wise stacking(along third axis) using dstack(). The concatenate() function creates a new array by appending arrays after each other, along a given axis. The append() function appends an element to an array and creates a new copy of the array."
   ]
  },
  {
   "cell_type": "code",
   "execution_count": 23,
   "metadata": {},
   "outputs": [
    {
     "name": "stdout",
     "output_type": "stream",
     "text": [
      "[[ 1  2  3  7  8  9]\n",
      " [ 4  5  6 10 11 12]]\n",
      "----------\n",
      "[[ 1  2  3]\n",
      " [ 4  5  6]\n",
      " [ 7  8  9]\n",
      " [10 11 12]]\n",
      "----------\n",
      "[[[ 1  7]\n",
      "  [ 2  8]\n",
      "  [ 3  9]]\n",
      "\n",
      " [[ 4 10]\n",
      "  [ 5 11]\n",
      "  [ 6 12]]]\n",
      "----------\n",
      "[[ 1  2  3]\n",
      " [ 4  5  6]\n",
      " [ 7  8  9]\n",
      " [10 11 12]]\n",
      "----------\n",
      "[[ 1  2  3]\n",
      " [ 4  5  6]\n",
      " [ 7  8  9]\n",
      " [10 11 12]]\n",
      "----------\n",
      "[[ 1  2  3  7  8  9]\n",
      " [ 4  5  6 10 11 12]]\n"
     ]
    }
   ],
   "source": [
    "import numpy as np\n",
    " \n",
    "array1 = np.array([[1, 2, 3], [4, 5, 6]])\n",
    "array2 = np.array([[7, 8, 9], [10, 11, 12]])\n",
    " \n",
    "# Stack arrays in sequence horizontally (column wise).\n",
    "arrayH = np.hstack((array1, array2))\n",
    "print(arrayH)\n",
    " \n",
    "print(\"-\" * 10)\n",
    " \n",
    "# Stack arrays in sequence vertically (row wise).\n",
    "arrayV = np.vstack((array1, array2))\n",
    "print(arrayV)\n",
    " \n",
    "print(\"-\" * 10)\n",
    " \n",
    "# Stack arrays in sequence depth wise (along third axis).\n",
    "arrayD = np.dstack((array1, array2))\n",
    "print(arrayD)\n",
    " \n",
    "print(\"-\" * 10)\n",
    " \n",
    "# Appending arrays after each other, along a given axis.\n",
    "arrayC = np.concatenate((array1, array2))\n",
    "print(arrayC)\n",
    " \n",
    "print(\"-\" * 10)\n",
    " \n",
    "# Append values to the end of an array.\n",
    "arrayA = np.append(array1, array2, axis=0)\n",
    "print(arrayA)\n",
    " \n",
    "print(\"-\" * 10)\n",
    "arrayA = np.append(array1, array2, axis=1)\n",
    "print(arrayA)\n",
    " "
   ]
  },
  {
   "cell_type": "markdown",
   "metadata": {},
   "source": [
    "## Algebra with Arrays"
   ]
  },
  {
   "cell_type": "markdown",
   "metadata": {},
   "source": [
    "### Arithmetic Operations"
   ]
  },
  {
   "cell_type": "markdown",
   "metadata": {},
   "source": [
    "The arithmetic operations with NumPy arrays perform element-wise operations, this means the operators are applied only between corresponding elements"
   ]
  },
  {
   "cell_type": "code",
   "execution_count": 24,
   "metadata": {},
   "outputs": [
    {
     "name": "stdout",
     "output_type": "stream",
     "text": [
      "[[ 8 10 12]\n",
      " [14 16 18]]\n",
      "--------------------\n",
      "[[-6 -6 -6]\n",
      " [-6 -6 -6]]\n",
      "--------------------\n",
      "[[ 7 16 27]\n",
      " [40 55 72]]\n",
      "--------------------\n",
      "[[7.  4.  3. ]\n",
      " [2.5 2.2 2. ]]\n",
      "----------------------------------------\n",
      "[[          1         256       19683]\n",
      " [    1048576    48828125 -2118184960]]\n",
      "----------------------------------------\n"
     ]
    }
   ],
   "source": [
    "import numpy as np\n",
    " \n",
    "array1 = np.array([[1, 2, 3], [4, 5, 6]])\n",
    "array2 = np.array([[7, 8, 9], [10, 11, 12]])\n",
    " \n",
    "print(array1 + array2)\n",
    "print(\"-\" * 20)\n",
    " \n",
    "print(array1 - array2)\n",
    "print(\"-\" * 20)\n",
    " \n",
    "print(array1 * array2)\n",
    "print(\"-\" * 20)\n",
    " \n",
    "print(array2 / array1)\n",
    "print(\"-\" * 40)\n",
    " \n",
    "print(array1 ** array2)\n",
    "print(\"-\" * 40)"
   ]
  },
  {
   "cell_type": "markdown",
   "metadata": {},
   "source": [
    "## Scalar Arithmetic Operations"
   ]
  },
  {
   "cell_type": "markdown",
   "metadata": {},
   "source": [
    "During scalar operations, the scalar value is applied to each element in the array."
   ]
  },
  {
   "cell_type": "code",
   "execution_count": 25,
   "metadata": {},
   "outputs": [
    {
     "name": "stdout",
     "output_type": "stream",
     "text": [
      "[[12 22 32]\n",
      " [42 52 62]]\n",
      "--------------------\n",
      "[[ 5 15 25]\n",
      " [35 45 55]]\n",
      "--------------------\n",
      "[[ 20  40  60]\n",
      " [ 80 100 120]]\n",
      "--------------------\n",
      "[[ 2.  4.  6.]\n",
      " [ 8. 10. 12.]]\n",
      "--------------------\n",
      "[[ 100  400  900]\n",
      " [1600 2500 3600]]\n",
      "--------------------\n"
     ]
    }
   ],
   "source": [
    "import numpy as np\n",
    " \n",
    "array1 = np.array([[10, 20, 30], [40, 50, 60]])\n",
    " \n",
    "print(array1 + 2)\n",
    "print(\"-\" * 20)\n",
    " \n",
    "print(array1 - 5)\n",
    "print(\"-\" * 20)\n",
    " \n",
    "print(array1 * 2)\n",
    "print(\"-\" * 20)\n",
    " \n",
    "print(array1 / 5)\n",
    "print(\"-\" * 20)\n",
    " \n",
    "print(array1 ** 2)\n",
    "print(\"-\" * 20)"
   ]
  },
  {
   "cell_type": "markdown",
   "metadata": {},
   "source": [
    "## Elementary Mathematical Functions"
   ]
  },
  {
   "cell_type": "markdown",
   "metadata": {},
   "source": [
    "These mathematical functions takes a single array of any dimension as input and returns a new array of the same shape."
   ]
  },
  {
   "cell_type": "raw",
   "metadata": {},
   "source": [
    "         Functions                               Description\n",
    "np.cos(), np.sin(), np.tan()\t             Trigonometric functions.\n",
    "np.arccos(), np.arcsin(), np.arctan()\t     Inverse trigonometric functions.\n",
    "np.cosh(), np.sinh(), np.tanh()\t             Hyperbolic trigonometric functions.\n",
    "np.arccosh(), np.arcsinh(), np.arctanh()\t Inverse hyperbolic trigonometric unctions.\n",
    "np.sqrt()\t                                 Square root.\n",
    "np.exp()\t                                 Exponential.\n",
    "np.log(), np.log2(), np.log10()\t             Logarithms of base e, 2, and 10, respectively."
   ]
  },
  {
   "cell_type": "code",
   "execution_count": 26,
   "metadata": {},
   "outputs": [
    {
     "name": "stdout",
     "output_type": "stream",
     "text": [
      "[[-0.54402111  0.91294525 -0.98803162]\n",
      " [ 0.74511316 -0.26237485 -0.30481062]]\n",
      "----------------------------------------\n",
      "[[-0.83907153  0.40808206  0.15425145]\n",
      " [-0.66693806  0.96496603 -0.95241298]]\n",
      "----------------------------------------\n",
      "[[ 0.64836083  2.23716094 -6.4053312 ]\n",
      " [-1.11721493 -0.27190061  0.32004039]]\n",
      "----------------------------------------\n",
      "[[3.16227766 4.47213595 5.47722558]\n",
      " [6.32455532 7.07106781 7.74596669]]\n",
      "----------------------------------------\n",
      "[[2.20264658e+04 4.85165195e+08 1.06864746e+13]\n",
      " [2.35385267e+17 5.18470553e+21 1.14200739e+26]]\n",
      "----------------------------------------\n",
      "[[1.         1.30103    1.47712125]\n",
      " [1.60205999 1.69897    1.77815125]]\n",
      "----------------------------------------\n"
     ]
    }
   ],
   "source": [
    "import numpy as np\n",
    " \n",
    "array1 = np.array([[10, 20, 30], [40, 50, 60]])\n",
    " \n",
    "print(np.sin(array1))\n",
    "print(\"-\" * 40)\n",
    " \n",
    "print(np.cos(array1))\n",
    "print(\"-\" * 40)\n",
    " \n",
    "print(np.tan(array1))\n",
    "print(\"-\" * 40)\n",
    " \n",
    "print(np.sqrt(array1))\n",
    "print(\"-\" * 40)\n",
    " \n",
    "print(np.exp(array1))\n",
    "print(\"-\" * 40)\n",
    " \n",
    "print(np.log10(array1))\n",
    "print(\"-\" * 40)"
   ]
  },
  {
   "cell_type": "markdown",
   "metadata": {},
   "source": [
    "## Element-wise Mathematical Operations"
   ]
  },
  {
   "cell_type": "raw",
   "metadata": {},
   "source": [
    "            Functions\t                                                  Description\n",
    "np.add(), np.subtract(), np.multiply(), np.divide()\t                 Addition, subtraction, multiplication, and division of                                                                          arguments(NumPy arrays) element-wise.\n",
    "np.power()\t                                                         First array elements raised to powers from second array,                                                                        element-wise.\n",
    "np.remainder()\t                                                     Return element-wise remainder of division.\n",
    "np.reciprocal()\t                                                     Return the reciprocal of the argument, element-wise.\n",
    "np.sign(), np.abs()\t                                                 Return sign and the absolute value.\n",
    "np.floor(), np.ceil()\t                                             Return the floor, ceiling of the input, element-wise.\n",
    "np.round()\t                                                         Round a number to a given precision in decimal digits                                                                          (default 0 digits)"
   ]
  },
  {
   "cell_type": "code",
   "execution_count": 27,
   "metadata": {},
   "outputs": [
    {
     "name": "stdout",
     "output_type": "stream",
     "text": [
      "[[12 23 34]\n",
      " [44 56 68]]\n",
      "----------------------------------------\n",
      "[[        100        8000      810000]\n",
      " [    2560000 -1554869184 -1686044672]]\n",
      "----------------------------------------\n",
      "[[2 3 4]\n",
      " [4 1 3]]\n",
      "----------------------------------------\n",
      "[[-0.5         0.28571429 -0.25      ]\n",
      " [ 0.24691358 -0.16666667  0.125     ]]\n",
      "----------------------------------------\n",
      "[[-1.  1. -1.]\n",
      " [ 1. -1.  1.]]\n",
      "----------------------------------------\n",
      "[[-2.  4. -4.]\n",
      " [ 5. -6.  8.]]\n",
      "----------------------------------------\n",
      "[[-2.  4. -4.]\n",
      " [ 4. -6.  8.]]\n",
      "----------------------------------------\n"
     ]
    }
   ],
   "source": [
    "import numpy as np\n",
    " \n",
    "array1 = np.array([[10, 20, 30], [40, 50, 60]])\n",
    "array2 = np.array([[2, 3, 4], [4, 6, 8]])\n",
    "array3 = np.array([[-2, 3.5, -4], [4.05, -6, 8]])\n",
    " \n",
    "print(np.add(array1, array2))\n",
    "print(\"-\" * 40)\n",
    " \n",
    "print(np.power(array1, array2))\n",
    "print(\"-\" * 40)\n",
    " \n",
    "print(np.remainder((array2), 5))\n",
    "print(\"-\" * 40)\n",
    " \n",
    "print(np.reciprocal(array3))\n",
    "print(\"-\" * 40)\n",
    " \n",
    "print(np.sign(array3))\n",
    "print(\"-\" * 40)\n",
    " \n",
    "print(np.ceil(array3))\n",
    "print(\"-\" * 40)\n",
    " \n",
    "print(np.round(array3))\n",
    "print(\"-\" * 40)"
   ]
  },
  {
   "cell_type": "markdown",
   "metadata": {},
   "source": [
    "## Aggregate and Statistical Functions"
   ]
  },
  {
   "cell_type": "raw",
   "metadata": {},
   "source": [
    " Functions\t                                     Description\n",
    "np.mean()\t                      Compute the arithmetic mean along the specified axis.\n",
    "np.std()\t                      Compute the standard deviation along the specified axis.\n",
    "np.var()\t                      Compute the variance along the specified axis.\n",
    "np.sum()\t                      Sum of array elements over a given axis.\n",
    "np.prod()\t                      Return the product of array elements over a given axis.\n",
    "np.cumsum()\t                      Return the cumulative sum of the elements along a given axis.\n",
    "np.cumprod()\t                  Return the cumulative product of elements along a given axis.\n",
    "np.min(), np.max()\t              Return the minimum / maximum of an array or minimum along an axis.\n",
    "np.argmin(), np.argmax()\t      Returns the indices of the minimum / maximum values along an axis\n",
    "np.all()\t                      Test whether all array elements along a given axis evaluate to True.\n",
    "np.any()\t                      Test whether any array element along a given axis evaluates to True.\n"
   ]
  },
  {
   "cell_type": "code",
   "execution_count": 28,
   "metadata": {},
   "outputs": [
    {
     "name": "stdout",
     "output_type": "stream",
     "text": [
      "Mean:  35.0\n",
      "Std:  17.07825127659933\n",
      "Var:  291.6666666666667\n",
      "Sum:  210\n",
      "Prod:  720000000\n"
     ]
    }
   ],
   "source": [
    "import numpy as np\n",
    " \n",
    "array1 = np.array([[10, 20, 30], [40, 50, 60]])\n",
    " \n",
    "print(\"Mean: \", np.mean(array1))\n",
    " \n",
    "print(\"Std: \", np.std(array1))\n",
    " \n",
    "print(\"Var: \", np.var(array1))\n",
    " \n",
    "print(\"Sum: \", np.sum(array1))\n",
    " \n",
    "print(\"Prod: \", np.prod(array1))"
   ]
  },
  {
   "cell_type": "markdown",
   "metadata": {},
   "source": [
    "## Useful functions for Conditional and Logical Expressions"
   ]
  },
  {
   "cell_type": "markdown",
   "metadata": {},
   "source": [
    "### Updating using where()"
   ]
  },
  {
   "cell_type": "markdown",
   "metadata": {},
   "source": [
    "The where() function is used to chooses values from arrays depending on the value of a specific condition."
   ]
  },
  {
   "cell_type": "code",
   "execution_count": 29,
   "metadata": {},
   "outputs": [
    {
     "name": "stdout",
     "output_type": "stream",
     "text": [
      "[[ 2  4  6]\n",
      " [12 15 18]]\n"
     ]
    }
   ],
   "source": [
    "import numpy as np\n",
    " \n",
    "before = np.array([[1, 2, 3], [4, 5, 6]])\n",
    " \n",
    "# If element is less than 4, mul by 2 else by 3\n",
    "after = np.where(before < 4, before * 2, before * 3)\n",
    " \n",
    "print(after)"
   ]
  },
  {
   "cell_type": "markdown",
   "metadata": {},
   "source": [
    "## Updating using select()"
   ]
  },
  {
   "cell_type": "markdown",
   "metadata": {},
   "source": [
    "The select() function return an array drawn from elements in choice list, depending on conditions."
   ]
  },
  {
   "cell_type": "code",
   "execution_count": 30,
   "metadata": {},
   "outputs": [
    {
     "name": "stdout",
     "output_type": "stream",
     "text": [
      "[[ 2  4  6]\n",
      " [12 15 18]]\n"
     ]
    },
    {
     "name": "stderr",
     "output_type": "stream",
     "text": [
      "C:\\Users\\UMASHANKAR VERMA\\Anaconda3\\lib\\site-packages\\ipykernel_launcher.py:6: DeprecationWarning: select condlists containing integer ndarrays is deprecated and will be removed in the future. Use `.astype(bool)` to convert to bools.\n",
      "  \n"
     ]
    }
   ],
   "source": [
    "import numpy as np\n",
    " \n",
    "before = np.array([[1, 2, 3], [4, 5, 6]])\n",
    " \n",
    "# If element is less than 4, mul by 2 else by 3\n",
    "after = np.select([before < 4, before], [before * 2, before * 3])\n",
    " \n",
    "print(after)"
   ]
  },
  {
   "cell_type": "markdown",
   "metadata": {},
   "source": [
    "## Selection using choose()"
   ]
  },
  {
   "cell_type": "markdown",
   "metadata": {},
   "source": [
    "Construct an array from an index array and a set of arrays to choose from"
   ]
  },
  {
   "cell_type": "code",
   "execution_count": 31,
   "metadata": {},
   "outputs": [
    {
     "name": "stdout",
     "output_type": "stream",
     "text": [
      "[[ 5 10 15]\n",
      " [15  5 10]\n",
      " [10 15  5]]\n",
      "----------\n",
      "[[ 5 10 15]\n",
      " [ 9 18 27]\n",
      " [ 8 16 24]]\n"
     ]
    }
   ],
   "source": [
    "import numpy as np\n",
    " \n",
    "before = np.array([[0, 1, 2], [2, 0, 1], [1, 2, 0]])\n",
    "choices = [5, 10, 15]\n",
    " \n",
    "after = np.choose(before, choices)\n",
    "print(after)\n",
    " \n",
    "print(\"-\" * 10)\n",
    " \n",
    "before = np.array([[0, 0, 0], [2, 2, 2], [1, 1, 1]])\n",
    "choice1 = [5, 10, 15]\n",
    "choice2 = [8, 16, 24]\n",
    "choice3 = [9, 18, 27]\n",
    " \n",
    "after = np.choose(before, (choice1, choice2, choice3))\n",
    "print(after)"
   ]
  },
  {
   "cell_type": "markdown",
   "metadata": {},
   "source": [
    "## Logical Operations"
   ]
  },
  {
   "cell_type": "markdown",
   "metadata": {},
   "source": [
    "logical_or computes the truth value of x1 OR x2 element-wise. logical_and computes the truth value of x1 AND x2 element-wise. logical_or computes the truth value of NOT x element-wise"
   ]
  },
  {
   "cell_type": "code",
   "execution_count": 32,
   "metadata": {},
   "outputs": [
    {
     "name": "stdout",
     "output_type": "stream",
     "text": [
      "[[False  True  True]\n",
      " [False  True  True]]\n",
      "------------------------------\n",
      "[[False False False]\n",
      " [False False False]]\n",
      "------------------------------\n",
      "[[False  True  True]\n",
      " [False  True  True]]\n",
      "------------------------------\n"
     ]
    }
   ],
   "source": [
    "import numpy as np\n",
    " \n",
    "thearray = np.array([[10, 20, 30], [14, 24, 36]])\n",
    " \n",
    "print(np.logical_or(thearray < 10, thearray > 15))\n",
    "print(\"-\" * 30)\n",
    " \n",
    "print(np.logical_and(thearray < 10, thearray > 15))\n",
    "print(\"-\" * 30)\n",
    " \n",
    "print(np.logical_not(thearray < 20))\n",
    "print(\"-\" * 30)"
   ]
  },
  {
   "cell_type": "markdown",
   "metadata": {},
   "source": [
    "## Standard Set Operations"
   ]
  },
  {
   "cell_type": "markdown",
   "metadata": {},
   "source": [
    "The standard set operations union (array of values that are in either of the two input arrays), intersection (unique values that are in both of the input arrays), and difference (unique values in array1 that are not in array2) are provided by np.union1d(), np.intersect1d(), and np.setdiff1d(), respectively."
   ]
  },
  {
   "cell_type": "code",
   "execution_count": 33,
   "metadata": {},
   "outputs": [
    {
     "name": "stdout",
     "output_type": "stream",
     "text": [
      "[10 14 20 24 30 34 36 40 46 50]\n",
      "[20 24]\n",
      "[10 14 30 36]\n"
     ]
    }
   ],
   "source": [
    "import numpy as np\n",
    " \n",
    "array1 = np.array([[10, 20, 30], [14, 24, 36]])\n",
    "array2 = np.array([[20, 40, 50], [24, 34, 46]])\n",
    " \n",
    "# Find the union of two arrays.\n",
    "print(np.union1d(array1, array2))\n",
    " \n",
    "# Find the intersection of two arrays.\n",
    "print(np.intersect1d(array1, array2))\n",
    " \n",
    "# Find the set difference of two arrays.\n",
    "print(np.setdiff1d(array1, array2))"
   ]
  },
  {
   "cell_type": "code",
   "execution_count": null,
   "metadata": {},
   "outputs": [],
   "source": []
  },
  {
   "cell_type": "code",
   "execution_count": null,
   "metadata": {},
   "outputs": [],
   "source": []
  },
  {
   "cell_type": "code",
   "execution_count": null,
   "metadata": {},
   "outputs": [],
   "source": []
  },
  {
   "cell_type": "code",
   "execution_count": null,
   "metadata": {},
   "outputs": [],
   "source": []
  }
 ],
 "metadata": {
  "kernelspec": {
   "display_name": "Python 3",
   "language": "python",
   "name": "python3"
  },
  "language_info": {
   "codemirror_mode": {
    "name": "ipython",
    "version": 3
   },
   "file_extension": ".py",
   "mimetype": "text/x-python",
   "name": "python",
   "nbconvert_exporter": "python",
   "pygments_lexer": "ipython3",
   "version": "3.7.3"
  }
 },
 "nbformat": 4,
 "nbformat_minor": 2
}
